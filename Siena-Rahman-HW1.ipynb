{
 "cells": [
  {
   "cell_type": "markdown",
   "metadata": {},
   "source": [
    "Siena Rahman\n"
   ]
  },
  {
   "cell_type": "markdown",
   "metadata": {},
   "source": [
    "115387353"
   ]
  },
  {
   "cell_type": "markdown",
   "metadata": {},
   "source": [
    "Problem 1.1, Method 1: Bisection Method\n",
    "Use the bisection method with a given internal a0 = −1 and b0 = 1."
   ]
  },
  {
   "cell_type": "code",
   "execution_count": 136,
   "metadata": {},
   "outputs": [],
   "source": [
    "import numpy as np\n",
    "import math"
   ]
  },
  {
   "cell_type": "code",
   "execution_count": 137,
   "metadata": {},
   "outputs": [
    {
     "data": {
      "text/plain": [
       "'Root using Bisection Method: 0.64154052734375, Number of Iterations: 15, Number of Floating-Point Operations: 45'"
      ]
     },
     "execution_count": 137,
     "metadata": {},
     "output_type": "execute_result"
    }
   ],
   "source": [
    "def bisection(f, a, b, tol): \n",
    "   #1. Select initial value, a and b, to bracket the root in [a, b] with condition:\n",
    "    if f(a) * f(b) >= 0:\n",
    "        raise ValueError(\"f(a) * f(b) must be < 0.\")\n",
    "\n",
    "    iterations = 0\n",
    "    while (b - a) / 2 > tol:\n",
    "        #2. Compute the mid-point of the values a and b.\n",
    "        x = (a + b) / 2 # Addition, Division -> 2 Floating-Point Operations (FLOPs)\n",
    "        \n",
    "        if f(x) == 0:\n",
    "            return (f\"Root using Bisection Method: {c}, Number of Iterations: {iterations}, Number of Floating-Point Operations: {iterations * 3}\")\n",
    "\n",
    "        #3. Assess which half contains the root by\n",
    "        elif f(a) * f(x) < 0: # Multiplication -> 1 FLOP\n",
    "            #If f(a) * f(c) < 0 then the root must be in [a, c] and you narrow the bracket by setting:\n",
    "            b = x\n",
    "        else:\n",
    "            #Otherwise, the root is in [x, b] and you narrow the bracket by setting:\n",
    "            a = x\n",
    "\n",
    "        iterations += 1\n",
    "\n",
    "    return (f\"Root using Bisection Method: {x}, Number of Iterations: {iterations}, Number of Floating-Point Operations: {iterations * 3}\")\n",
    "\n",
    "f = lambda x: (np.e)**(-x**3)-(x**4)-np.sin(x)\n",
    "\n",
    "bisection(f, -1, 1, (0.5*(10**-4)))"
   ]
  },
  {
   "cell_type": "markdown",
   "metadata": {},
   "source": [
    "Problem 1.1, Method 2:\n",
    "Use Newton’s method with the given initial root x0 = 0."
   ]
  },
  {
   "cell_type": "code",
   "execution_count": 138,
   "metadata": {},
   "outputs": [
    {
     "data": {
      "text/plain": [
       "'Root using Newton Method: 0.6415825512515503, Number of Iterations: 6, Number of Floating-Point Operations: 12'"
      ]
     },
     "execution_count": 138,
     "metadata": {},
     "output_type": "execute_result"
    }
   ],
   "source": [
    "np.set_printoptions(legacy='1.25')\n",
    "def newton(f, df, x0, tol):\n",
    "    iterations = 0\n",
    "    max_iter = 1000\n",
    "    \n",
    "    while iterations < max_iter:\n",
    "        iterations += 1\n",
    "        if abs(f(x0)) < tol:\n",
    "            return (f'Root using Newton Method: {x0}, Number of Iterations: {iterations}, Number of Floating-Point Operations: {iterations * 2}')\n",
    "        else:\n",
    "            # Newton equation for x_iplus1\n",
    "            x0 = x0 - (f(x0) / df(x0)) # Subtraction, Division -> 2 FLOPs\n",
    "\n",
    "f = lambda x: (np.e)**(-x**3)-(x**4)-np.sin(x)\n",
    "df = lambda x: (-4*(x**3))-(3*(x**2)*(np.e)**(-x**3))-np.cos(x)\n",
    "\n",
    "newton(f, df, 0, (0.5*(10**-4)))"
   ]
  },
  {
   "cell_type": "markdown",
   "metadata": {},
   "source": [
    "Problem 1.1, Method 3:\n",
    "Use the Secant method with two given initial roots x0,1 = −1, 1."
   ]
  },
  {
   "cell_type": "code",
   "execution_count": 139,
   "metadata": {},
   "outputs": [
    {
     "data": {
      "text/plain": [
       "'Root using Secant Method: 0.6415908941839591, Number of Iterations: 7, Number of Floating-Point Operations: 42'"
      ]
     },
     "execution_count": 139,
     "metadata": {},
     "output_type": "execute_result"
    }
   ],
   "source": [
    "def secant(f, df, x_imin1, x_i, tol):\n",
    "    iterations = 0\n",
    "    max_iter = 1000\n",
    "    \n",
    "    while iterations < max_iter:\n",
    "        iterations += 1\n",
    "        if abs(f(x_i)) < tol:\n",
    "            return (f'Root using Secant Method: {x_i}, Number of Iterations: {iterations}, Number of Floating-Point Operations: {iterations * 6}')\n",
    "        else:\n",
    "            # Secant equation for x_iplus1\n",
    "            x_iplus1 = x_i - (f(x_i) / ((f(x_i) - f(x_imin1)) / (x_i - x_imin1))) # <- Subtraction, Division, Subtraction, Division, Subtraction <- 5 FLOPs\n",
    "            x_imin1 = x_i\n",
    "            x_i = x_iplus1\n",
    "\n",
    "f = lambda x: (np.e)**(-x**3)-(x**4)-np.sin(x)\n",
    "df = lambda x: (-4*(x**3))-(3*(x**2)*(np.e)**(-x**3))-np.cos(x)\n",
    "\n",
    "secant(f, df, -1, 1, (0.5*(10**-4)))"
   ]
  },
  {
   "cell_type": "markdown",
   "metadata": {},
   "source": [
    "Problem 1.1, Method 4:\n",
    "Use Monte Carlo method for a given range [0.50, 0.75]. A narrowed range is given to not blow up your laptop."
   ]
  },
  {
   "cell_type": "code",
   "execution_count": 140,
   "metadata": {},
   "outputs": [
    {
     "data": {
      "text/plain": [
       "'Root using Monte Carlo Method: 0.6415994293474654, Number of Iterations: 1938, Number of Floating-Point Operations: 1938'"
      ]
     },
     "execution_count": 140,
     "metadata": {},
     "output_type": "execute_result"
    }
   ],
   "source": [
    "def montecarlo(f, a, b, tol):\n",
    "    iterations = 0\n",
    "    max_iter = 100000\n",
    "\n",
    "    while iterations < max_iter:\n",
    "        iterations += 1\n",
    "        x = np.random.uniform(a, b) #Pseudo-random algorithm _> 1 FLOP\n",
    "        \n",
    "        if abs(f(x)) < tol:\n",
    "            return f'Root using Monte Carlo Method: {x}, Number of Iterations: {iterations}, Number of Floating-Point Operations: {iterations}'\n",
    "\n",
    "f = lambda x: (np.e)**(-x**3)-(x**4)-np.sin(x)\n",
    "\n",
    "montecarlo(f, 0.5, 0.75, (0.5*(10**-4)))\n"
   ]
  },
  {
   "cell_type": "markdown",
   "metadata": {},
   "source": [
    "Problem 1.2 (30 points, 15 for each sub-problem): \n",
    "The following table is the Tesla stock closings during five consecutive trading sessions. Please complete the following."
   ]
  },
  {
   "cell_type": "markdown",
   "metadata": {},
   "source": [
    "Problem 1.2, (1) Interpolate the data in a polynomial P_4(t) and compute P_4(t=6) using your P_4(t)."
   ]
  },
  {
   "cell_type": "code",
   "execution_count": 141,
   "metadata": {},
   "outputs": [
    {
     "data": {
      "text/plain": [
       "'The interpolated stock closing value on session 6 (t = 6): 452.0, Number of Iterations: 5, Number of Floating-Point Operations: 30'"
      ]
     },
     "execution_count": 141,
     "metadata": {},
     "output_type": "execute_result"
    }
   ],
   "source": [
    "def lagrange(t, y, tvalue):\n",
    "    P_4 = 0\n",
    "    iterations = 0\n",
    "    for i in range(5):\n",
    "        n = len(t)\n",
    "        iterations += 1\n",
    "        L_i = 1 \n",
    "        for j in range(n):\n",
    "            if i != j:\n",
    "                L_i *= (tvalue - t[j]) / (t[i] - t[j]) # Multiplication, Subtraction, Division, Subtraction <- 4 FLOPs\n",
    "        \n",
    "        P_4 += y[i] * L_i # Addition, Multiplication <- 2 FLOPs\n",
    "\n",
    "    return (f'The interpolated stock closing value on session 6 (t = 6): {P_4}, Number of Iterations: {iterations}, Number of Floating-Point Operations: {iterations * 6}')\n",
    "\n",
    "t = np.array([5, 4, 3, 2, 1])\n",
    "y = np.array([417, 398, 397, 407, 412])\n",
    "\n",
    "lagrange(t, y, 6)"
   ]
  },
  {
   "cell_type": "markdown",
   "metadata": {},
   "source": [
    "Problem 1.2, (2) Make a quadratic fit of the data Q_2(t) = a_0 + a_1(t) + a_2(t^2) and compute Q_2(t = 6) using Q_2(t)."
   ]
  },
  {
   "cell_type": "code",
   "execution_count": 142,
   "metadata": {},
   "outputs": [
    {
     "name": "stdout",
     "output_type": "stream",
     "text": [
      "Q_2(t) = 435.39999999999714 + -25.185714285711992t + 4.2142857142853485t^2\n"
     ]
    },
    {
     "data": {
      "text/plain": [
       "'The interpolated stock closing value on session 6 (t = 6): 436.0, Number of Iterations: 1, Number of Floating-Point Operations: 157'"
      ]
     },
     "execution_count": 142,
     "metadata": {},
     "output_type": "execute_result"
    }
   ],
   "source": [
    "def quadratic(t, y, tvalue): \n",
    "    n = len(t)\n",
    "    \n",
    "    A = np.column_stack((np.ones(n), t, t**2)) # n multiplications, n = 5 -> 5 FLOPs\n",
    "\n",
    "    # A^T * A\n",
    "    A_TxA = np.dot(A.T, A) # Multiplying two 3x3 matrices -> 18 multiplications times n\n",
    "    \n",
    "    # A^T * y\n",
    "    A_Txy = np.dot(A.T, y) # Multiplying a 3x3 matrix and a 3-vector -> 6 multiplications times n\n",
    "\n",
    "    # A^T * x = A^T*y -> solve for x\n",
    "    coeffs = np.linalg.solve(A_TxA, A_Txy) # Two 3x3 Matrices, Gaussian Elimination Procedure, 3^3 -> 27 FLOPs\n",
    "\n",
    "    a0, a1, a2 = coeffs\n",
    "\n",
    "    # Interpolated Q_2 equation\n",
    "    print(f\"Q_2(t) = {a0} + {a1}t + {a2}t^2\")   \n",
    "    \n",
    "    # Q_2 at t = 6\n",
    "    t6 = a0 + (a1 * tvalue) + (a2 * tvalue**2) # Addition, Multiplication, Addition, Multiplication, Exponeniation -> 5 FLOPs\n",
    "    \n",
    "    flops = n + (18*n) + (6*n) + 27 + 5\n",
    "\n",
    "    return (f'The interpolated stock closing value on session 6 (t = 6): {t6:0.1f}, Number of Iterations: 1, Number of Floating-Point Operations: {flops}')\n",
    "\n",
    "t = np.array([5, 4, 3, 2, 1])\n",
    "y = np.array([417, 398, 397, 407, 412])\n",
    "\n",
    "quadratic(t, y, 6)\n"
   ]
  }
 ],
 "metadata": {
  "kernelspec": {
   "display_name": "Python 3",
   "language": "python",
   "name": "python3"
  },
  "language_info": {
   "codemirror_mode": {
    "name": "ipython",
    "version": 3
   },
   "file_extension": ".py",
   "mimetype": "text/x-python",
   "name": "python",
   "nbconvert_exporter": "python",
   "pygments_lexer": "ipython3",
   "version": "3.13.2"
  }
 },
 "nbformat": 4,
 "nbformat_minor": 2
}
